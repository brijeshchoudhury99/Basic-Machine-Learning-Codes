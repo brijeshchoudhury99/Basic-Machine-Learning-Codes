{
  "nbformat": 4,
  "nbformat_minor": 0,
  "metadata": {
    "colab": {
      "provenance": [],
      "authorship_tag": "ABX9TyOkllhgRYjtN93YL7K8zdQj",
      "include_colab_link": true
    },
    "kernelspec": {
      "name": "python3",
      "display_name": "Python 3"
    },
    "language_info": {
      "name": "python"
    }
  },
  "cells": [
    {
      "cell_type": "markdown",
      "metadata": {
        "id": "view-in-github",
        "colab_type": "text"
      },
      "source": [
        "<a href=\"https://colab.research.google.com/github/brijeshchoudhury99/Basic-Machine-Learning-Codes/blob/master/Matrix_multiplication.ipynb\" target=\"_parent\"><img src=\"https://colab.research.google.com/assets/colab-badge.svg\" alt=\"Open In Colab\"/></a>"
      ]
    },
    {
      "cell_type": "code",
      "execution_count": null,
      "metadata": {
        "colab": {
          "base_uri": "https://localhost:8080/"
        },
        "id": "yIq9G28Fptg_",
        "outputId": "f8c8aed4-9f5a-4022-c27e-ac0d5bf6a632"
      },
      "outputs": [
        {
          "output_type": "stream",
          "name": "stdout",
          "text": [
            "Enter the number of rows for 1st matrix:3\n",
            "Enter the number of columns for 1st matrix:2\n",
            "Enter the entries in a single line (separated by space): \n",
            "1 2 3 4 5 6\n",
            "Enter the number of rows for 2nd matrix:2\n",
            "Enter the number of columns for 2nd matrix:3\n",
            "Enter the entries in a single line (separated by space): \n",
            "6 5 4 3 2 1\n",
            "[[1 2]\n",
            " [3 4]\n",
            " [5 6]]\n",
            "[[6 5 4]\n",
            " [3 2 1]]\n",
            "[[12, 9, 6], [30, 23, 16], [48, 37, 26]]\n"
          ]
        }
      ],
      "source": [
        "import numpy as np\n",
        "\n",
        "R1 = int(input(\"Enter the number of rows for 1st matrix:\"))\n",
        "C1 = int(input(\"Enter the number of columns for 1st matrix:\"))\n",
        "print(\"Enter the entries in a single line (separated by space): \")\n",
        "entries = list(map(int, input().split()))\n",
        "matrix1 = np.array(entries).reshape(R1, C1)\n",
        "\n",
        "R2 = int(input(\"Enter the number of rows for 2nd matrix:\"))\n",
        "C2 = int(input(\"Enter the number of columns for 2nd matrix:\"))\n",
        "print(\"Enter the entries in a single line (separated by space): \")\n",
        "entries = list(map(int, input().split()))\n",
        "matrix2 = np.array(entries).reshape(R2, C2)\n",
        "\n",
        "print(matrix1)\n",
        "print(matrix2)\n",
        "\n",
        "p = len(matrix1)\n",
        "q = len(matrix1[0])\n",
        "\n",
        "t = len(matrix2)\n",
        "r = len(matrix2[0])\n",
        "if(q!=t):\n",
        "   print(\"Error! Matrix sizes are not compatible\")\n",
        "   quit()\n",
        "\n",
        "C = []\n",
        "for row in range(p):\n",
        "   curr_row = []\n",
        "   for col in range(r):\n",
        "       curr_row.append(0)\n",
        "   C.append(curr_row)\n",
        "\n",
        "for i in range(p):\n",
        "   for j in range(r):\n",
        "       curr_val = 0\n",
        "       for k in range(q):\n",
        "           curr_val += matrix1[i][k]*matrix2[k][j]\n",
        "       C[i][j] = curr_val\n",
        "\n",
        "print(C)"
      ]
    }
  ]
}